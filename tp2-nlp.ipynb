{
 "cells": [
  {
   "cell_type": "code",
   "execution_count": 1,
   "id": "3d98cfb6",
   "metadata": {
    "_cell_guid": "b1076dfc-b9ad-4769-8c92-a6c4dae69d19",
    "_uuid": "8f2839f25d086af736a60e9eeb907d3b93b6e0e5",
    "execution": {
     "iopub.execute_input": "2024-03-13T22:36:33.140851Z",
     "iopub.status.busy": "2024-03-13T22:36:33.140008Z",
     "iopub.status.idle": "2024-03-13T22:36:34.179118Z",
     "shell.execute_reply": "2024-03-13T22:36:34.177268Z"
    },
    "papermill": {
     "duration": 1.04615,
     "end_time": "2024-03-13T22:36:34.181754",
     "exception": false,
     "start_time": "2024-03-13T22:36:33.135604",
     "status": "completed"
    },
    "tags": []
   },
   "outputs": [],
   "source": [
    "# This Python 3 environment comes with many helpful analytics libraries installed\n",
    "# It is defined by the kaggle/python Docker image: https://github.com/kaggle/docker-python\n",
    "# For example, here's several helpful packages to load\n",
    "\n",
    "import numpy as np # linear algebra\n",
    "import pandas as pd # data processing, CSV file I/O (e.g. pd.read_csv)\n",
    "\n",
    "# Input data files are available in the read-only \"../input/\" directory\n",
    "# For example, running this (by clicking run or pressing Shift+Enter) will list all files under the input directory\n",
    "\n",
    "import os\n",
    "for dirname, _, filenames in os.walk('/kaggle/input'):\n",
    "    for filename in filenames:\n",
    "        print(os.path.join(dirname, filename))\n",
    "\n",
    "# You can write up to 20GB to the current directory (/kaggle/working/) that gets preserved as output when you create a version using \"Save & Run All\" \n",
    "# You can also write temporary files to /kaggle/temp/, but they won't be saved outside of the current session"
   ]
  },
  {
   "cell_type": "code",
   "execution_count": 2,
   "id": "7bea302f",
   "metadata": {
    "execution": {
     "iopub.execute_input": "2024-03-13T22:36:34.188770Z",
     "iopub.status.busy": "2024-03-13T22:36:34.188251Z",
     "iopub.status.idle": "2024-03-13T22:36:44.000789Z",
     "shell.execute_reply": "2024-03-13T22:36:43.999174Z"
    },
    "papermill": {
     "duration": 9.819416,
     "end_time": "2024-03-13T22:36:44.003854",
     "exception": false,
     "start_time": "2024-03-13T22:36:34.184438",
     "status": "completed"
    },
    "tags": []
   },
   "outputs": [
    {
     "name": "stdout",
     "output_type": "stream",
     "text": [
      "[nltk_data] Downloading package punkt to /usr/share/nltk_data...\n",
      "[nltk_data]   Package punkt is already up-to-date!\n"
     ]
    }
   ],
   "source": [
    "from gensim.models import Word2Vec\n",
    "from nltk.tokenize import word_tokenize\n",
    "import nltk\n",
    "nltk.download('punkt')\n",
    "\n",
    "text = \"\"\"Morocco and Marrakech: A Tapestry of Tradition and Modernity Morocco, located at the crossroads of Europe and Africa, is a country drenched in history, mystery, and cultural richness. A testament to the ancient civilizations that once flourished here, this North African kingdom boasts a unique blend of Arab, Berber, and European influences. At the heart of Morocco's rich tapestry lies Marrakech, one of its four imperial cities and a vibrant epicenter of tradition and modernity. Geographical Significance Morocco is bordered by the Atlantic Ocean to the west, the Mediterranean Sea to the north, Algeria to the east and southeast, and the vast Sahara desert to the south. Its strategic location has historically made it a sought-after territory and a melting pot of cultures, religions, and trade routes. Marrakech: The Red City Marrakech, often referred to as \"The Red City\" due to its distinctive red-hued buildings, stands against the backdrop of the snow-capped Atlas Mountains. Established in the 11th century, it has remained a crucial political, economic, and cultural center of Morocco. Journey through the Medina Marrakech's old town, the Medina, is a UNESCO World Heritage site and a labyrinthine maze of narrow alleys, bustling souks, and historical landmarks. The Djemaa el-Fna Square lies at the heart of the Medina and comes alive every evening with storytellers, musicians, snake charmers, and food stalls offering tantalizing Moroccan delicacies. Palaces and Gardens The city is also home to grand palaces like the Bahia Palace, showcasing intricate Islamic architecture, and the Saadian Tombs, remnants of the Saadian dynasty. The Majorelle Garden, restored by the fashion designer Yves Saint Laurent, is a tranquil oasis of cacti, palm trees, and cobalt blue accents. Modern Marrakech While tradition and history permeate Marrakech, the city is not averse to the modern world. Gueliz, the new town, is brimming with contemporary art galleries, stylish cafes, and chic boutiques, offering a stark contrast to the ancient Medina. Moroccan Cuisine No journey through Morocco and Marrakech would be complete without indulging in the local cuisine. Tagines, couscous, and pastilla are just a few of the many dishes that combine a plethora of flavors and spices like saffron, cumin, and mint. Paired with Moroccan mint tea, the culinary experience is truly unparalleled. In Conclusion Morocco, with Marrakech at its heart, offers travelers an unparalleled journey through time. The convergence of history, culture, architecture, and gastronomy makes it an enthralling destination for those seeking both adventure and reflection. As the Moroccan proverb goes, \"He who does not travel does not know the value of men.\" In the case of Morocco and Marrakech, it's not just the value of men, but also the value of time, tradition, and tales that have spanned centuries.\"\"\"\n",
    "tk = word_tokenize(text.lower())"
   ]
  },
  {
   "cell_type": "code",
   "execution_count": 3,
   "id": "b967b28e",
   "metadata": {
    "execution": {
     "iopub.execute_input": "2024-03-13T22:36:44.010492Z",
     "iopub.status.busy": "2024-03-13T22:36:44.009926Z",
     "iopub.status.idle": "2024-03-13T22:36:44.043414Z",
     "shell.execute_reply": "2024-03-13T22:36:44.041933Z"
    },
    "papermill": {
     "duration": 0.039964,
     "end_time": "2024-03-13T22:36:44.046366",
     "exception": false,
     "start_time": "2024-03-13T22:36:44.006402",
     "status": "completed"
    },
    "tags": []
   },
   "outputs": [],
   "source": [
    "# Entraîner le modèle Word2Vec\n",
    "modele = Word2Vec([tk], vector_size=100, window=5, min_count=1, sg=1)"
   ]
  },
  {
   "cell_type": "code",
   "execution_count": 4,
   "id": "3c0bc843",
   "metadata": {
    "execution": {
     "iopub.execute_input": "2024-03-13T22:36:44.052786Z",
     "iopub.status.busy": "2024-03-13T22:36:44.052443Z",
     "iopub.status.idle": "2024-03-13T22:36:44.059319Z",
     "shell.execute_reply": "2024-03-13T22:36:44.058043Z"
    },
    "papermill": {
     "duration": 0.012733,
     "end_time": "2024-03-13T22:36:44.061670",
     "exception": false,
     "start_time": "2024-03-13T22:36:44.048937",
     "status": "completed"
    },
    "tags": []
   },
   "outputs": [
    {
     "name": "stdout",
     "output_type": "stream",
     "text": [
      "Représentation vectorielle du mot 'morocco': [-1.0787104e-02  1.1357489e-02  4.7213864e-03  1.0605202e-02\n",
      "  7.6770317e-03 -1.4883145e-03  1.3278982e-02  2.1486816e-03\n",
      " -1.1675926e-02  2.6663290e-03  3.6973555e-03 -8.6488556e-03\n",
      "  8.4184278e-03 -2.9588938e-03  9.7317575e-03 -2.2813133e-03\n",
      " -6.0239160e-03 -5.5977260e-03 -8.4881019e-03 -9.4352737e-03\n",
      "  1.3128738e-03  8.5188476e-03  1.2491137e-02 -9.0254219e-03\n",
      "  4.6671103e-03  1.8947250e-03 -3.5687841e-03 -1.0920721e-02\n",
      " -1.3277067e-03 -9.2583150e-03  9.1907745e-03 -4.9551674e-03\n",
      "  7.7742212e-03  9.6808234e-03 -1.3991615e-03  8.6256331e-03\n",
      " -5.6434353e-04  5.8940351e-03  2.5633541e-03 -1.3004911e-02\n",
      " -1.9822021e-03 -6.2569970e-04 -1.5414362e-03 -4.2665092e-04\n",
      "  1.1741413e-03 -1.4533347e-03  1.2447486e-03  1.9608380e-03\n",
      " -3.6037229e-03 -2.9710140e-03  2.1029406e-03 -2.4319175e-03\n",
      " -8.0459012e-04 -4.3499409e-03  1.8931287e-03 -1.9703254e-04\n",
      "  3.3160583e-03  3.7160804e-05  2.2861038e-03 -6.2813764e-03\n",
      " -5.8252569e-03 -5.4448931e-03  1.0642011e-02 -3.8409482e-03\n",
      " -1.3917761e-02  8.4327528e-04 -1.7924516e-03  1.0047374e-02\n",
      " -1.4164491e-02  5.7830960e-03 -1.1636801e-02  3.3027809e-03\n",
      "  9.5551703e-03  8.0454610e-03 -3.8706115e-03 -3.6645758e-03\n",
      " -6.8111480e-03 -7.2176475e-03 -1.2940368e-02  5.0616340e-04\n",
      " -2.2171973e-03 -6.3101975e-03  3.2559957e-03  4.2373235e-03\n",
      "  3.4680376e-03  8.0257771e-04  7.8019284e-04 -3.9959471e-03\n",
      "  5.9573445e-04  2.3679368e-03 -1.8910643e-03  4.5481077e-03\n",
      "  3.2044535e-03 -1.1173402e-03  1.6614342e-02  1.2543740e-02\n",
      "  4.7423318e-03  6.1314870e-03  6.2297327e-03 -7.2058970e-03]\n"
     ]
    }
   ],
   "source": [
    "#Extraire la représentation vectorielle d'un mot\n",
    "Vmot = modele.wv['morocco']\n",
    "print(\"Représentation vectorielle du mot 'morocco':\", Vmot)"
   ]
  },
  {
   "cell_type": "code",
   "execution_count": 5,
   "id": "bc197df1",
   "metadata": {
    "execution": {
     "iopub.execute_input": "2024-03-13T22:36:44.068363Z",
     "iopub.status.busy": "2024-03-13T22:36:44.067937Z",
     "iopub.status.idle": "2024-03-13T22:36:44.075347Z",
     "shell.execute_reply": "2024-03-13T22:36:44.074372Z"
    },
    "papermill": {
     "duration": 0.013348,
     "end_time": "2024-03-13T22:36:44.077485",
     "exception": false,
     "start_time": "2024-03-13T22:36:44.064137",
     "status": "completed"
    },
    "tags": []
   },
   "outputs": [
    {
     "name": "stdout",
     "output_type": "stream",
     "text": [
      "Similarité entre 'morocco' et 'marrakech': 0.322483\n"
     ]
    }
   ],
   "source": [
    "#Calculer la similarité entre deux mots\n",
    "similarite = modele.wv.similarity('morocco', 'marrakech')\n",
    "print(\"Similarité entre 'morocco' et 'marrakech':\", similarite)"
   ]
  },
  {
   "cell_type": "code",
   "execution_count": 6,
   "id": "3e7a8c29",
   "metadata": {
    "execution": {
     "iopub.execute_input": "2024-03-13T22:36:44.084956Z",
     "iopub.status.busy": "2024-03-13T22:36:44.083710Z",
     "iopub.status.idle": "2024-03-13T22:36:44.094600Z",
     "shell.execute_reply": "2024-03-13T22:36:44.093732Z"
    },
    "papermill": {
     "duration": 0.017078,
     "end_time": "2024-03-13T22:36:44.097129",
     "exception": false,
     "start_time": "2024-03-13T22:36:44.080051",
     "status": "completed"
    },
    "tags": []
   },
   "outputs": [
    {
     "name": "stdout",
     "output_type": "stream",
     "text": [
      "Mots contextuels pour 'morocco':\n",
      "and  :  0.4469807744026184\n",
      "the  :  0.43418335914611816\n",
      "an  :  0.4135172367095947\n",
      "``  :  0.36879774928092957\n",
      ",  :  0.35852912068367004\n",
      "world  :  0.3450351655483246\n",
      "cultural  :  0.3434039354324341\n",
      ".  :  0.3320392370223999\n",
      "marrakech  :  0.32248300313949585\n",
      "a  :  0.3215102553367615\n"
     ]
    }
   ],
   "source": [
    "#Extraire les mots contextuels (les plus similaires) pour un mot central donné\n",
    "motsC = modele.wv.most_similar('morocco')\n",
    "print(\"Mots contextuels pour 'morocco':\")\n",
    "for mot, similarite in motsC:\n",
    "    print(mot,\" : \" ,similarite)"
   ]
  }
 ],
 "metadata": {
  "kaggle": {
   "accelerator": "none",
   "dataSources": [],
   "dockerImageVersionId": 30664,
   "isGpuEnabled": false,
   "isInternetEnabled": true,
   "language": "python",
   "sourceType": "notebook"
  },
  "kernelspec": {
   "display_name": "Python 3",
   "language": "python",
   "name": "python3"
  },
  "language_info": {
   "codemirror_mode": {
    "name": "ipython",
    "version": 3
   },
   "file_extension": ".py",
   "mimetype": "text/x-python",
   "name": "python",
   "nbconvert_exporter": "python",
   "pygments_lexer": "ipython3",
   "version": "3.10.13"
  },
  "papermill": {
   "default_parameters": {},
   "duration": 14.607295,
   "end_time": "2024-03-13T22:36:45.121682",
   "environment_variables": {},
   "exception": null,
   "input_path": "__notebook__.ipynb",
   "output_path": "__notebook__.ipynb",
   "parameters": {},
   "start_time": "2024-03-13T22:36:30.514387",
   "version": "2.5.0"
  }
 },
 "nbformat": 4,
 "nbformat_minor": 5
}
