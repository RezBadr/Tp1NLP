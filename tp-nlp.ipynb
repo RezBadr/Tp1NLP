{
 "cells": [
  {
   "cell_type": "code",
   "execution_count": 1,
   "id": "f3930a5b",
   "metadata": {
    "_cell_guid": "b1076dfc-b9ad-4769-8c92-a6c4dae69d19",
    "_uuid": "8f2839f25d086af736a60e9eeb907d3b93b6e0e5",
    "execution": {
     "iopub.execute_input": "2024-02-24T19:35:58.885143Z",
     "iopub.status.busy": "2024-02-24T19:35:58.884603Z",
     "iopub.status.idle": "2024-02-24T19:35:59.809139Z",
     "shell.execute_reply": "2024-02-24T19:35:59.807923Z"
    },
    "papermill": {
     "duration": 0.932984,
     "end_time": "2024-02-24T19:35:59.811704",
     "exception": false,
     "start_time": "2024-02-24T19:35:58.878720",
     "status": "completed"
    },
    "tags": []
   },
   "outputs": [
    {
     "name": "stdout",
     "output_type": "stream",
     "text": [
      "/kaggle/input/customer-support-on-twitter/sample.csv\n",
      "/kaggle/input/customer-support-on-twitter/twcs/twcs.csv\n"
     ]
    }
   ],
   "source": [
    "# This Python 3 environment comes with many helpful analytics libraries installed\n",
    "# It is defined by the kaggle/python Docker image: https://github.com/kaggle/docker-python\n",
    "# For example, here's several helpful packages to load\n",
    "\n",
    "import numpy as np # linear algebra\n",
    "import pandas as pd # data processing, CSV file I/O (e.g. pd.read_csv)\n",
    "\n",
    "# Input data files are available in the read-only \"../input/\" directory\n",
    "# For example, running this (by clicking run or pressing Shift+Enter) will list all files under the input directory\n",
    "\n",
    "import os\n",
    "for dirname, _, filenames in os.walk('/kaggle/input'):\n",
    "    for filename in filenames:\n",
    "        print(os.path.join(dirname, filename))\n",
    "\n",
    "# You can write up to 20GB to the current directory (/kaggle/working/) that gets preserved as output when you create a version using \"Save & Run All\" \n",
    "# You can also write temporary files to /kaggle/temp/, but they won't be saved outside of the current session"
   ]
  },
  {
   "cell_type": "code",
   "execution_count": 2,
   "id": "9ed5e04f",
   "metadata": {
    "execution": {
     "iopub.execute_input": "2024-02-24T19:35:59.821324Z",
     "iopub.status.busy": "2024-02-24T19:35:59.820542Z",
     "iopub.status.idle": "2024-02-24T19:36:07.614281Z",
     "shell.execute_reply": "2024-02-24T19:36:07.613114Z"
    },
    "papermill": {
     "duration": 7.801291,
     "end_time": "2024-02-24T19:36:07.616766",
     "exception": false,
     "start_time": "2024-02-24T19:35:59.815475",
     "status": "completed"
    },
    "tags": []
   },
   "outputs": [
    {
     "data": {
      "text/html": [
       "<div>\n",
       "<style scoped>\n",
       "    .dataframe tbody tr th:only-of-type {\n",
       "        vertical-align: middle;\n",
       "    }\n",
       "\n",
       "    .dataframe tbody tr th {\n",
       "        vertical-align: top;\n",
       "    }\n",
       "\n",
       "    .dataframe thead th {\n",
       "        text-align: right;\n",
       "    }\n",
       "</style>\n",
       "<table border=\"1\" class=\"dataframe\">\n",
       "  <thead>\n",
       "    <tr style=\"text-align: right;\">\n",
       "      <th></th>\n",
       "      <th>tweet_id</th>\n",
       "      <th>author_id</th>\n",
       "      <th>inbound</th>\n",
       "      <th>created_at</th>\n",
       "      <th>text</th>\n",
       "      <th>response_tweet_id</th>\n",
       "      <th>in_response_to_tweet_id</th>\n",
       "    </tr>\n",
       "  </thead>\n",
       "  <tbody>\n",
       "    <tr>\n",
       "      <th>0</th>\n",
       "      <td>1</td>\n",
       "      <td>sprintcare</td>\n",
       "      <td>False</td>\n",
       "      <td>Tue Oct 31 22:10:47 +0000 2017</td>\n",
       "      <td>@115712 I understand. I would like to assist y...</td>\n",
       "      <td>2</td>\n",
       "      <td>3.0</td>\n",
       "    </tr>\n",
       "    <tr>\n",
       "      <th>1</th>\n",
       "      <td>2</td>\n",
       "      <td>115712</td>\n",
       "      <td>True</td>\n",
       "      <td>Tue Oct 31 22:11:45 +0000 2017</td>\n",
       "      <td>@sprintcare and how do you propose we do that</td>\n",
       "      <td>NaN</td>\n",
       "      <td>1.0</td>\n",
       "    </tr>\n",
       "    <tr>\n",
       "      <th>2</th>\n",
       "      <td>3</td>\n",
       "      <td>115712</td>\n",
       "      <td>True</td>\n",
       "      <td>Tue Oct 31 22:08:27 +0000 2017</td>\n",
       "      <td>@sprintcare I have sent several private messag...</td>\n",
       "      <td>1</td>\n",
       "      <td>4.0</td>\n",
       "    </tr>\n",
       "    <tr>\n",
       "      <th>3</th>\n",
       "      <td>4</td>\n",
       "      <td>sprintcare</td>\n",
       "      <td>False</td>\n",
       "      <td>Tue Oct 31 21:54:49 +0000 2017</td>\n",
       "      <td>@115712 Please send us a Private Message so th...</td>\n",
       "      <td>3</td>\n",
       "      <td>5.0</td>\n",
       "    </tr>\n",
       "    <tr>\n",
       "      <th>4</th>\n",
       "      <td>5</td>\n",
       "      <td>115712</td>\n",
       "      <td>True</td>\n",
       "      <td>Tue Oct 31 21:49:35 +0000 2017</td>\n",
       "      <td>@sprintcare I did.</td>\n",
       "      <td>4</td>\n",
       "      <td>6.0</td>\n",
       "    </tr>\n",
       "  </tbody>\n",
       "</table>\n",
       "</div>"
      ],
      "text/plain": [
       "   tweet_id   author_id  inbound                      created_at  \\\n",
       "0         1  sprintcare    False  Tue Oct 31 22:10:47 +0000 2017   \n",
       "1         2      115712     True  Tue Oct 31 22:11:45 +0000 2017   \n",
       "2         3      115712     True  Tue Oct 31 22:08:27 +0000 2017   \n",
       "3         4  sprintcare    False  Tue Oct 31 21:54:49 +0000 2017   \n",
       "4         5      115712     True  Tue Oct 31 21:49:35 +0000 2017   \n",
       "\n",
       "                                                text response_tweet_id  \\\n",
       "0  @115712 I understand. I would like to assist y...                 2   \n",
       "1      @sprintcare and how do you propose we do that               NaN   \n",
       "2  @sprintcare I have sent several private messag...                 1   \n",
       "3  @115712 Please send us a Private Message so th...                 3   \n",
       "4                                 @sprintcare I did.                 4   \n",
       "\n",
       "   in_response_to_tweet_id  \n",
       "0                      3.0  \n",
       "1                      1.0  \n",
       "2                      4.0  \n",
       "3                      5.0  \n",
       "4                      6.0  "
      ]
     },
     "execution_count": 2,
     "metadata": {},
     "output_type": "execute_result"
    }
   ],
   "source": [
    "import numpy as np\n",
    "import pandas as pd\n",
    "import re\n",
    "import nltk\n",
    "import spacy\n",
    "import string\n",
    "pd.options.mode.chained_assignment = None\n",
    "\n",
    "full_df = pd.read_csv(\"/kaggle/input/customer-support-on-twitter/twcs/twcs.csv\", nrows=5000)\n",
    "df = full_df[[\"text\"]]\n",
    "df[\"text\"] = df[\"text\"].astype(str)\n",
    "full_df.head()"
   ]
  },
  {
   "cell_type": "code",
   "execution_count": 3,
   "id": "927b292a",
   "metadata": {
    "execution": {
     "iopub.execute_input": "2024-02-24T19:36:07.626036Z",
     "iopub.status.busy": "2024-02-24T19:36:07.625600Z",
     "iopub.status.idle": "2024-02-24T19:36:07.640681Z",
     "shell.execute_reply": "2024-02-24T19:36:07.639624Z"
    },
    "papermill": {
     "duration": 0.022428,
     "end_time": "2024-02-24T19:36:07.643052",
     "exception": false,
     "start_time": "2024-02-24T19:36:07.620624",
     "status": "completed"
    },
    "tags": []
   },
   "outputs": [
    {
     "name": "stdout",
     "output_type": "stream",
     "text": [
      "@AppleSupport causing the reply to be disregarded and the tapped notification under the keyboard is opened😡😡😡\n",
      "@105835 Your business means a lot to us. Please DM your name, zip code and additional details about your concern. ^RR https://t.co/znUu1VJn9r\n",
      "@105836 LiveChat is online at the moment - https://t.co/SY94VtU8Kq or contact 03331 031 031 option 1, 4, 3 (Leave a message) to request a call back\n"
     ]
    }
   ],
   "source": [
    "df = pd.read_csv('/kaggle/input/customer-support-on-twitter/sample.csv')\n",
    "text_column_name = 'text'\n",
    "\n",
    "text_list = df[text_column_name].tolist()\n",
    "print(text_list[0])\n",
    "print(text_list[1])\n",
    "print(text_list[3])"
   ]
  },
  {
   "cell_type": "code",
   "execution_count": 4,
   "id": "32fac2cd",
   "metadata": {
    "execution": {
     "iopub.execute_input": "2024-02-24T19:36:07.652461Z",
     "iopub.status.busy": "2024-02-24T19:36:07.652032Z",
     "iopub.status.idle": "2024-02-24T19:36:07.658303Z",
     "shell.execute_reply": "2024-02-24T19:36:07.657338Z"
    },
    "papermill": {
     "duration": 0.01366,
     "end_time": "2024-02-24T19:36:07.660570",
     "exception": false,
     "start_time": "2024-02-24T19:36:07.646910",
     "status": "completed"
    },
    "tags": []
   },
   "outputs": [
    {
     "name": "stdout",
     "output_type": "stream",
     "text": [
      "@applesupport causing the reply to be disregarded and the tapped notification under the keyboard is opened😡😡😡\n",
      "@105835 your business means a lot to us. please dm your name, zip code and additional details about your concern. ^rr https://t.co/znuu1vjn9r\n",
      "@105836 livechat is online at the moment - https://t.co/sy94vtu8kq or contact 03331 031 031 option 1, 4, 3 (leave a message) to request a call back\n"
     ]
    }
   ],
   "source": [
    "text_list = [text.lower() for text in text_list]\n",
    "print(text_list[0])\n",
    "print(text_list[1])\n",
    "print(text_list[3])"
   ]
  },
  {
   "cell_type": "code",
   "execution_count": 5,
   "id": "779166ba",
   "metadata": {
    "execution": {
     "iopub.execute_input": "2024-02-24T19:36:07.670897Z",
     "iopub.status.busy": "2024-02-24T19:36:07.670438Z",
     "iopub.status.idle": "2024-02-24T19:36:07.681983Z",
     "shell.execute_reply": "2024-02-24T19:36:07.680307Z"
    },
    "papermill": {
     "duration": 0.019704,
     "end_time": "2024-02-24T19:36:07.684330",
     "exception": false,
     "start_time": "2024-02-24T19:36:07.664626",
     "status": "completed"
    },
    "tags": []
   },
   "outputs": [
    {
     "name": "stdout",
     "output_type": "stream",
     "text": [
      "AppleSupport causing the reply to be disregarded and the tapped notification under the keyboard is opened😡😡😡\n",
      "105835 Your business means a lot to us Please DM your name zip code and additional details about your concern RR httpstcoznUu1VJn9r\n",
      "105836 LiveChat is online at the moment  httpstcoSY94VtU8Kq or contact 03331 031 031 option 1 4 3 Leave a message to request a call back\n"
     ]
    }
   ],
   "source": [
    "df = pd.read_csv('/kaggle/input/customer-support-on-twitter/sample.csv')\n",
    "text_column_name = 'text'\n",
    "text_list = df[text_column_name].tolist()\n",
    "\n",
    "translator = str.maketrans(\"\", \"\", string.punctuation)\n",
    "text_list = [text.translate(translator) for text in text_list]\n",
    "print(text_list[0])\n",
    "print(text_list[1])\n",
    "print(text_list[3])"
   ]
  },
  {
   "cell_type": "code",
   "execution_count": 6,
   "id": "c182dc15",
   "metadata": {
    "execution": {
     "iopub.execute_input": "2024-02-24T19:36:07.694238Z",
     "iopub.status.busy": "2024-02-24T19:36:07.693784Z",
     "iopub.status.idle": "2024-02-24T19:36:07.711275Z",
     "shell.execute_reply": "2024-02-24T19:36:07.710399Z"
    },
    "papermill": {
     "duration": 0.026278,
     "end_time": "2024-02-24T19:36:07.714644",
     "exception": false,
     "start_time": "2024-02-24T19:36:07.688366",
     "status": "completed"
    },
    "tags": []
   },
   "outputs": [
    {
     "name": "stdout",
     "output_type": "stream",
     "text": [
      "@AppleSupport causing reply disregarded tapped notification keyboard opened😡😡😡\n",
      "@105835 Your business means lot us. Please DM name, zip code additional details concern. ^RR https://t.co/znUu1VJn9r\n",
      "@105836 LiveChat online moment - https://t.co/SY94VtU8Kq contact 03331 031 031 option 1, 4, 3 (Leave message) request call back\n"
     ]
    }
   ],
   "source": [
    "from nltk.corpus import stopwords\n",
    "\n",
    "df = pd.read_csv('/kaggle/input/customer-support-on-twitter/sample.csv')\n",
    "text_column_name = 'text'\n",
    "text_list = df[text_column_name].tolist()\n",
    "\n",
    "stop_words = set(stopwords.words('english'))\n",
    "text_list = [' '.join([word for word in text.split() if word not in stop_words]) for text in text_list]\n",
    "\n",
    "print(text_list[0])\n",
    "print(text_list[1])\n",
    "print(text_list[3])"
   ]
  },
  {
   "cell_type": "code",
   "execution_count": 7,
   "id": "14dfa3a3",
   "metadata": {
    "execution": {
     "iopub.execute_input": "2024-02-24T19:36:07.724982Z",
     "iopub.status.busy": "2024-02-24T19:36:07.724500Z",
     "iopub.status.idle": "2024-02-24T19:36:07.786674Z",
     "shell.execute_reply": "2024-02-24T19:36:07.785521Z"
    },
    "papermill": {
     "duration": 0.070128,
     "end_time": "2024-02-24T19:36:07.789120",
     "exception": false,
     "start_time": "2024-02-24T19:36:07.718992",
     "status": "completed"
    },
    "tags": []
   },
   "outputs": [
    {
     "name": "stdout",
     "output_type": "stream",
     "text": [
      "@AppleSupport the to be and the under the is opened😡😡😡\n",
      "@105835 Your a to us. Please DM your name, and about your concern. ^RR https://t.co/znUu1VJn9r\n",
      "@105836 LiveChat is at the - https://t.co/SY94VtU8Kq or 1, 4, 3 (Leave a message) to a call back\n"
     ]
    }
   ],
   "source": [
    "from sklearn.feature_extraction.text import CountVectorizer\n",
    "\n",
    "df = pd.read_csv('/kaggle/input/customer-support-on-twitter/sample.csv')\n",
    "text_column_name = 'text'\n",
    "text_list = df[text_column_name].tolist()\n",
    "\n",
    "vectorizer = CountVectorizer(max_df=0.85, max_features=1000, stop_words='english')\n",
    "X = vectorizer.fit_transform(text_list)\n",
    "feature_names = vectorizer.get_feature_names_out()\n",
    "\n",
    "text_list = [' '.join([word for word in text.split() if word not in feature_names]) for text in text_list]\n",
    "\n",
    "print(text_list[0])\n",
    "print(text_list[1])\n",
    "print(text_list[3])"
   ]
  },
  {
   "cell_type": "code",
   "execution_count": 8,
   "id": "08f33d41",
   "metadata": {
    "execution": {
     "iopub.execute_input": "2024-02-24T19:36:07.799788Z",
     "iopub.status.busy": "2024-02-24T19:36:07.798647Z",
     "iopub.status.idle": "2024-02-24T19:36:07.832545Z",
     "shell.execute_reply": "2024-02-24T19:36:07.831335Z"
    },
    "papermill": {
     "duration": 0.041626,
     "end_time": "2024-02-24T19:36:07.834945",
     "exception": false,
     "start_time": "2024-02-24T19:36:07.793319",
     "status": "completed"
    },
    "tags": []
   },
   "outputs": [
    {
     "name": "stdout",
     "output_type": "stream",
     "text": [
      "reply\n",
      "means lot code\n",
      "moment option\n"
     ]
    }
   ],
   "source": [
    "df = pd.read_csv('/kaggle/input/customer-support-on-twitter/sample.csv')\n",
    "text_column_name = 'text'\n",
    "text_list = df[text_column_name].tolist()\n",
    "\n",
    "vectorizer = CountVectorizer(max_df=0.85, min_df=2, max_features=1000, stop_words='english')\n",
    "X = vectorizer.fit_transform(text_list)\n",
    "feature_names = vectorizer.get_feature_names_out()\n",
    "\n",
    "text_list = [' '.join([word for word in text.split() if word in feature_names]) for text in text_list]\n",
    "\n",
    "print(text_list[0])\n",
    "print(text_list[1])\n",
    "print(text_list[3])"
   ]
  },
  {
   "cell_type": "code",
   "execution_count": 9,
   "id": "75044459",
   "metadata": {
    "execution": {
     "iopub.execute_input": "2024-02-24T19:36:07.845112Z",
     "iopub.status.busy": "2024-02-24T19:36:07.844315Z",
     "iopub.status.idle": "2024-02-24T19:36:07.899093Z",
     "shell.execute_reply": "2024-02-24T19:36:07.897378Z"
    },
    "papermill": {
     "duration": 0.062652,
     "end_time": "2024-02-24T19:36:07.901707",
     "exception": false,
     "start_time": "2024-02-24T19:36:07.839055",
     "status": "completed"
    },
    "tags": []
   },
   "outputs": [
    {
     "name": "stdout",
     "output_type": "stream",
     "text": [
      "@applesupport caus the repli to be disregard and the tap notif under the keyboard is opened😡😡😡\n",
      "@105835 your busi mean a lot to us. pleas DM your name, zip code and addit detail about your concern. ^rr https://t.co/znuu1vjn9r\n",
      "@105836 livechat is onlin at the moment - https://t.co/sy94vtu8kq or contact 03331 031 031 option 1, 4, 3 (leav a message) to request a call back\n"
     ]
    }
   ],
   "source": [
    "from nltk.stem import PorterStemmer\n",
    "\n",
    "df = pd.read_csv('/kaggle/input/customer-support-on-twitter/sample.csv')\n",
    "text_column_name = 'text'\n",
    "text_list = df[text_column_name].tolist()\n",
    "\n",
    "ps = PorterStemmer()\n",
    "text_list = [' '.join([ps.stem(word) for word in text.split()]) for text in text_list]\n",
    "\n",
    "print(text_list[0])\n",
    "print(text_list[1])\n",
    "print(text_list[3])"
   ]
  }
 ],
 "metadata": {
  "kaggle": {
   "accelerator": "none",
   "dataSources": [
    {
     "datasetId": 4133,
     "sourceId": 8841,
     "sourceType": "datasetVersion"
    }
   ],
   "dockerImageVersionId": 30646,
   "isGpuEnabled": false,
   "isInternetEnabled": true,
   "language": "python",
   "sourceType": "notebook"
  },
  "kernelspec": {
   "display_name": "Python 3",
   "language": "python",
   "name": "python3"
  },
  "language_info": {
   "codemirror_mode": {
    "name": "ipython",
    "version": 3
   },
   "file_extension": ".py",
   "mimetype": "text/x-python",
   "name": "python",
   "nbconvert_exporter": "python",
   "pygments_lexer": "ipython3",
   "version": "3.10.13"
  },
  "papermill": {
   "default_parameters": {},
   "duration": 13.517001,
   "end_time": "2024-02-24T19:36:09.532057",
   "environment_variables": {},
   "exception": null,
   "input_path": "__notebook__.ipynb",
   "output_path": "__notebook__.ipynb",
   "parameters": {},
   "start_time": "2024-02-24T19:35:56.015056",
   "version": "2.5.0"
  }
 },
 "nbformat": 4,
 "nbformat_minor": 5
}
